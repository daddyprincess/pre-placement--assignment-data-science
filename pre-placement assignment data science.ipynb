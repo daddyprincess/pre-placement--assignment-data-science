{
 "cells": [
  {
   "cell_type": "markdown",
   "id": "50eacd0d-21dc-4669-bd16-b77958a05809",
   "metadata": {},
   "source": [
    "## 1. Write a Python program to reverse a string without using any built-in string reversal functions."
   ]
  },
  {
   "cell_type": "code",
   "execution_count": 1,
   "id": "47c579c3-3b2a-455e-b307-ea786e65a997",
   "metadata": {},
   "outputs": [
    {
     "name": "stdout",
     "output_type": "stream",
     "text": [
      "!dlroW ,olleH\n"
     ]
    }
   ],
   "source": [
    "def reverse_string(input_string):\n",
    "    reversed_string = ''\n",
    "    for char in input_string:\n",
    "        reversed_string = char + reversed_string\n",
    "    return reversed_string\n",
    "\n",
    "# Test the function\n",
    "string = 'Hello, World!'\n",
    "reversed_string = reverse_string(string)\n",
    "print(reversed_string)\n"
   ]
  },
  {
   "cell_type": "markdown",
   "id": "00cfa544-99a9-48f1-a729-0c2ffe4f14d9",
   "metadata": {},
   "source": [
    "## 2. Implement a function to check if a given string is a palindrome."
   ]
  },
  {
   "cell_type": "code",
   "execution_count": 2,
   "id": "f41025fc-0388-4f37-bc1d-b079f4a3f84a",
   "metadata": {},
   "outputs": [
    {
     "name": "stdout",
     "output_type": "stream",
     "text": [
      "True\n"
     ]
    }
   ],
   "source": [
    "def is_palindrome(input_string):\n",
    "    # Remove non-alphanumeric characters and convert to lowercase\n",
    "    clean_string = ''.join(char.lower() for char in input_string if char.isalnum())\n",
    "    # Check if the clean string is equal to its reverse\n",
    "    return clean_string == clean_string[::-1]\n",
    "\n",
    "# Test the function\n",
    "string = \"A man, a plan, a canal: Panama\"\n",
    "print(is_palindrome(string))\n"
   ]
  },
  {
   "cell_type": "markdown",
   "id": "996250fe-27de-4808-90ae-8348833c86fe",
   "metadata": {},
   "source": [
    "## 3. Write a program to find the largest element in a given list."
   ]
  },
  {
   "cell_type": "code",
   "execution_count": 3,
   "id": "d9f5257c-ac0e-412f-9d1b-d1c64307dffa",
   "metadata": {},
   "outputs": [
    {
     "name": "stdout",
     "output_type": "stream",
     "text": [
      "11\n"
     ]
    }
   ],
   "source": [
    "def find_largest_element(lst):\n",
    "    if not lst:\n",
    "        return None\n",
    "    largest = lst[0]\n",
    "    for num in lst:\n",
    "        if num > largest:\n",
    "            largest = num\n",
    "    return largest\n",
    "\n",
    "# Test the function\n",
    "numbers = [5, 9, 3, 2, 11, 7]\n",
    "largest_number = find_largest_element(numbers)\n",
    "print(largest_number)\n"
   ]
  },
  {
   "cell_type": "markdown",
   "id": "a52bfc15-b9b9-40f0-baee-5da14ac7db14",
   "metadata": {},
   "source": [
    "## 4. Implement a function to count the occurrence of each element in a list."
   ]
  },
  {
   "cell_type": "code",
   "execution_count": 4,
   "id": "8927ed65-313e-4d77-b899-2871398904df",
   "metadata": {},
   "outputs": [
    {
     "name": "stdout",
     "output_type": "stream",
     "text": [
      "{2: 3, 5: 2, 3: 2, 4: 4}\n"
     ]
    }
   ],
   "source": [
    "def count_occurrences(lst):\n",
    "    occurrence_count = {}\n",
    "    for element in lst:\n",
    "        if element in occurrence_count:\n",
    "            occurrence_count[element] += 1\n",
    "        else:\n",
    "            occurrence_count[element] = 1\n",
    "    return occurrence_count\n",
    "\n",
    "# Test the function\n",
    "numbers = [2, 5, 3, 2, 4, 5, 3, 2, 4, 4, 4]\n",
    "occurrences = count_occurrences(numbers)\n",
    "print(occurrences)\n"
   ]
  },
  {
   "cell_type": "markdown",
   "id": "ac6f2ac1-6d72-4013-9813-700eeaaa0f13",
   "metadata": {},
   "source": [
    "## 5. Write a Python program to find the second largest number in a list."
   ]
  },
  {
   "cell_type": "code",
   "execution_count": 5,
   "id": "80c9b218-af5f-49df-a5f0-6f2defa480c5",
   "metadata": {},
   "outputs": [
    {
     "name": "stdout",
     "output_type": "stream",
     "text": [
      "9\n"
     ]
    }
   ],
   "source": [
    "def find_second_largest(lst):\n",
    "    if len(lst) < 2:\n",
    "        return None\n",
    "    largest = max(lst[0], lst[1])\n",
    "    second_largest = min(lst[0], lst[1])\n",
    "    for num in lst[2:]:\n",
    "        if num > largest:\n",
    "            second_largest = largest\n",
    "            largest = num\n",
    "        elif num > second_largest:\n",
    "            second_largest = num\n",
    "    return second_largest\n",
    "\n",
    "# Test the function\n",
    "numbers = [5, 9, 3, 2, 11, 7]\n",
    "second_largest_number = find_second_largest(numbers)\n",
    "print(second_largest_number)\n"
   ]
  },
  {
   "cell_type": "markdown",
   "id": "71dd4c24-5306-4eb2-827d-18d127bf8b45",
   "metadata": {},
   "source": [
    "## 6. Implement a function to remove duplicate elements from a list."
   ]
  },
  {
   "cell_type": "code",
   "execution_count": 6,
   "id": "8b2b497f-a222-4d38-8970-9ae1374aece5",
   "metadata": {},
   "outputs": [
    {
     "name": "stdout",
     "output_type": "stream",
     "text": [
      "[2, 3, 4, 5]\n"
     ]
    }
   ],
   "source": [
    "def remove_duplicates(lst):\n",
    "    return list(set(lst))\n",
    "\n",
    "# Test the function\n",
    "numbers = [2, 5, 3, 2, 4, 5, 3, 2, 4, 4, 4]\n",
    "unique_numbers = remove_duplicates(numbers)\n",
    "print(unique_numbers)\n"
   ]
  },
  {
   "cell_type": "markdown",
   "id": "4d932bdb-d57f-46a5-90fc-160b74357b14",
   "metadata": {},
   "source": [
    "## 7. Write a program to calculate the factorial of a given number."
   ]
  },
  {
   "cell_type": "code",
   "execution_count": 7,
   "id": "846c1c06-a531-482b-bc29-f04544c47985",
   "metadata": {},
   "outputs": [
    {
     "name": "stdout",
     "output_type": "stream",
     "text": [
      "120\n"
     ]
    }
   ],
   "source": [
    "def factorial(n):\n",
    "    if n < 0:\n",
    "        return None\n",
    "    elif n == 0:\n",
    "        return 1\n",
    "    else:\n",
    "        result = 1\n",
    "        for i in range(1, n + 1):\n",
    "            result *= i\n",
    "        return result\n",
    "\n",
    "# Test the function\n",
    "number = 5\n",
    "factorial_of_number = factorial(number)\n",
    "print(factorial_of_number)\n"
   ]
  },
  {
   "cell_type": "markdown",
   "id": "93031cf6-da2a-42a8-991d-2265519ba7a5",
   "metadata": {},
   "source": [
    "## 8. Implement a function to check if a given number is prime."
   ]
  },
  {
   "cell_type": "code",
   "execution_count": 8,
   "id": "736586b3-94ef-4c70-900a-a99010dca35d",
   "metadata": {},
   "outputs": [
    {
     "name": "stdout",
     "output_type": "stream",
     "text": [
      "True\n"
     ]
    }
   ],
   "source": [
    "import math\n",
    "\n",
    "def is_prime(n):\n",
    "    if n <= 1:\n",
    "        return False\n",
    "    if n <= 3:\n",
    "        return True\n",
    "    if n % 2 == 0 or n % 3 == 0:\n",
    "        return False\n",
    "    for i in range(5, int(math.sqrt(n)) + 1, 6):\n",
    "        if n % i == 0 or n % (i + 2) == 0:\n",
    "            return False\n",
    "    return True\n",
    "\n",
    "# Test the function\n",
    "number = 17\n",
    "is_number_prime = is_prime(number)\n",
    "print(is_number_prime)\n"
   ]
  },
  {
   "cell_type": "markdown",
   "id": "513186cc-8299-4476-89b1-51e3da15b9c2",
   "metadata": {},
   "source": [
    "## 9. Write a Python program to sort a list of integers in ascending order."
   ]
  },
  {
   "cell_type": "code",
   "execution_count": 9,
   "id": "4075b4be-6d74-40bb-b6de-cbff8a0f2a8e",
   "metadata": {},
   "outputs": [
    {
     "name": "stdout",
     "output_type": "stream",
     "text": [
      "[1, 2, 3, 5, 8, 9]\n"
     ]
    }
   ],
   "source": [
    "numbers = [5, 2, 8, 1, 9, 3]\n",
    "\n",
    "numbers.sort()\n",
    "\n",
    "print(numbers)\n"
   ]
  },
  {
   "cell_type": "markdown",
   "id": "3e3f2d28-227d-45a1-ac60-55d774756e0e",
   "metadata": {},
   "source": [
    "## 10.Implement a function to find the sum of all numbers in a list."
   ]
  },
  {
   "cell_type": "code",
   "execution_count": 10,
   "id": "b0a208d2-face-4a17-b95a-ce5eee056d79",
   "metadata": {},
   "outputs": [
    {
     "name": "stdout",
     "output_type": "stream",
     "text": [
      "15\n"
     ]
    }
   ],
   "source": [
    "def sum_of_numbers(numbers):\n",
    "    total = 0\n",
    "    for num in numbers:\n",
    "        total += num\n",
    "    return total\n",
    "\n",
    "# Test the function\n",
    "numbers = [1, 2, 3, 4, 5]\n",
    "result = sum_of_numbers(numbers)\n",
    "print(result)\n"
   ]
  },
  {
   "cell_type": "markdown",
   "id": "de4a2058-686b-43de-bdc2-75bf7b8f971e",
   "metadata": {},
   "source": [
    "## 11. Write a program to find the common elements between two lists."
   ]
  },
  {
   "cell_type": "code",
   "execution_count": 11,
   "id": "079f1b34-4cf4-41ec-8a52-c8f13e52d660",
   "metadata": {},
   "outputs": [
    {
     "name": "stdout",
     "output_type": "stream",
     "text": [
      "[4, 5]\n"
     ]
    }
   ],
   "source": [
    "def find_common_elements(list1, list2):\n",
    "    common_elements = []\n",
    "    for element in list1:\n",
    "        if element in list2:\n",
    "            common_elements.append(element)\n",
    "    return common_elements\n",
    "\n",
    "# Test the function\n",
    "list1 = [1, 2, 3, 4, 5]\n",
    "list2 = [4, 5, 6, 7, 8]\n",
    "common_elements = find_common_elements(list1, list2)\n",
    "print(common_elements)\n"
   ]
  },
  {
   "cell_type": "markdown",
   "id": "2f4ff951-d333-4a56-a3e3-b038628f546d",
   "metadata": {},
   "source": [
    "## 12.Implement a function to check if a given string is an anagram of another string."
   ]
  },
  {
   "cell_type": "code",
   "execution_count": 12,
   "id": "8e8b9f72-48ee-41bd-8827-4a7fe6d2a776",
   "metadata": {},
   "outputs": [
    {
     "name": "stdout",
     "output_type": "stream",
     "text": [
      "True\n"
     ]
    }
   ],
   "source": [
    "def is_anagram(str1, str2):\n",
    "    # Remove spaces and convert to lowercase\n",
    "    str1 = str1.replace(\" \", \"\").lower()\n",
    "    str2 = str2.replace(\" \", \"\").lower()\n",
    "    \n",
    "    # Check if the sorted strings are equal\n",
    "    return sorted(str1) == sorted(str2)\n",
    "\n",
    "# Test the function\n",
    "string1 = \"listen\"\n",
    "string2 = \"silent\"\n",
    "result = is_anagram(string1, string2)\n",
    "print(result)\n"
   ]
  },
  {
   "cell_type": "markdown",
   "id": "2ce71e80-85ae-4a9c-acd8-0d88557b5dbd",
   "metadata": {},
   "source": [
    "## 13. Write a Python program to generate all permutations of a given string."
   ]
  },
  {
   "cell_type": "code",
   "execution_count": 13,
   "id": "603938ee-844a-488d-bdd5-187afdf08c50",
   "metadata": {},
   "outputs": [
    {
     "name": "stdout",
     "output_type": "stream",
     "text": [
      "abc\n",
      "acb\n",
      "bac\n",
      "bca\n",
      "cab\n",
      "cba\n"
     ]
    }
   ],
   "source": [
    "def generate_permutations(string):\n",
    "    # Base case: If the string has only one character, return it as a single-element list\n",
    "    if len(string) == 1:\n",
    "        return [string]\n",
    "    \n",
    "    # Recursive case: Generate permutations for each character in the string\n",
    "    permutations = []\n",
    "    for i in range(len(string)):\n",
    "        # Extract the current character\n",
    "        current_char = string[i]\n",
    "        \n",
    "        # Generate permutations for the remaining characters\n",
    "        remaining_chars = string[:i] + string[i+1:]\n",
    "        remaining_permutations = generate_permutations(remaining_chars)\n",
    "        \n",
    "        # Add the current character to each permutation\n",
    "        for permutation in remaining_permutations:\n",
    "            permutations.append(current_char + permutation)\n",
    "    \n",
    "    return permutations\n",
    "\n",
    "# Test the function\n",
    "string = \"abc\"\n",
    "permutations = generate_permutations(string)\n",
    "for permutation in permutations:\n",
    "    print(permutation)\n"
   ]
  },
  {
   "cell_type": "markdown",
   "id": "9a455179-431c-496c-ab85-20db783b091b",
   "metadata": {},
   "source": [
    "## 14. Implement a function to calculate the Fibonacci sequence up to a given number of terms."
   ]
  },
  {
   "cell_type": "code",
   "execution_count": 14,
   "id": "d5a4890f-8c9c-4de7-9003-82a953034c77",
   "metadata": {},
   "outputs": [
    {
     "name": "stdout",
     "output_type": "stream",
     "text": [
      "[0, 1, 1, 2, 3, 5, 8, 13, 21, 34]\n"
     ]
    }
   ],
   "source": [
    "def fibonacci(n):\n",
    "    # Base cases: 0th and 1st Fibonacci numbers are 0 and 1\n",
    "    if n == 0:\n",
    "        return [0]\n",
    "    elif n == 1:\n",
    "        return [0, 1]\n",
    "    \n",
    "    # Calculate Fibonacci sequence for n terms\n",
    "    sequence = [0, 1]  # Initialize the sequence with the first two Fibonacci numbers\n",
    "    \n",
    "    while len(sequence) < n:\n",
    "        # Calculate the next Fibonacci number by summing the last two numbers in the sequence\n",
    "        next_number = sequence[-1] + sequence[-2]\n",
    "        \n",
    "        # Append the next Fibonacci number to the sequence\n",
    "        sequence.append(next_number)\n",
    "    \n",
    "    return sequence\n",
    "\n",
    "# Test the function\n",
    "num_terms = 10\n",
    "fib_sequence = fibonacci(num_terms)\n",
    "print(fib_sequence)\n"
   ]
  },
  {
   "cell_type": "markdown",
   "id": "1985a849-6566-49fa-afcb-5b8a9de2867b",
   "metadata": {},
   "source": [
    "## 15. Write a program to find the median of a list of numbers."
   ]
  },
  {
   "cell_type": "code",
   "execution_count": 15,
   "id": "5cbd3bd4-ba2a-4ad0-8c61-f20ffd91c83d",
   "metadata": {},
   "outputs": [
    {
     "name": "stdout",
     "output_type": "stream",
     "text": [
      "Median: 5\n"
     ]
    }
   ],
   "source": [
    "def find_median(numbers):\n",
    "    # Sort the list of numbers in ascending order\n",
    "    sorted_numbers = sorted(numbers)\n",
    "\n",
    "    # Check if the list has an odd or even number of elements\n",
    "    num_elements = len(sorted_numbers)\n",
    "    if num_elements % 2 == 1:\n",
    "        # List has an odd number of elements\n",
    "        median = sorted_numbers[num_elements // 2]\n",
    "    else:\n",
    "        # List has an even number of elements\n",
    "        mid_index = num_elements // 2\n",
    "        median = (sorted_numbers[mid_index - 1] + sorted_numbers[mid_index]) / 2\n",
    "    \n",
    "    return median\n",
    "\n",
    "# Test the function\n",
    "numbers = [7, 2, 10, 5, 4]\n",
    "median = find_median(numbers)\n",
    "print(\"Median:\", median)\n"
   ]
  },
  {
   "cell_type": "markdown",
   "id": "3c241f56-4712-4a76-bafb-eb8780a9562c",
   "metadata": {},
   "source": [
    "## 16. Implement a function to check if a given list is sorted in non-decreasing order."
   ]
  },
  {
   "cell_type": "code",
   "execution_count": 17,
   "id": "584d327f-7cd7-4876-abc4-f978ec839f96",
   "metadata": {},
   "outputs": [
    {
     "name": "stdout",
     "output_type": "stream",
     "text": [
      "True\n",
      "False\n"
     ]
    }
   ],
   "source": [
    "def is_sorted(nums):\n",
    "    for i in range(len(nums) - 1):\n",
    "        if nums[i] > nums[i + 1]:\n",
    "            return False\n",
    "    return True\n",
    "\n",
    "# Test the function\n",
    "list1 = [1, 2, 3, 4, 5]\n",
    "print(is_sorted(list1))  \n",
    "\n",
    "list2 = [1, 3, 2, 4, 5]\n",
    "print(is_sorted(list2))  \n"
   ]
  },
  {
   "cell_type": "markdown",
   "id": "ad410a40-413b-452e-82b0-262885156acf",
   "metadata": {},
   "source": [
    "## 17. Write a Python program to find the intersection of two lists."
   ]
  },
  {
   "cell_type": "code",
   "execution_count": 18,
   "id": "faf35206-058f-4441-80a4-de713ed9706e",
   "metadata": {},
   "outputs": [
    {
     "name": "stdout",
     "output_type": "stream",
     "text": [
      "[4, 5]\n"
     ]
    }
   ],
   "source": [
    "def find_intersection(list1, list2):\n",
    "    set1 = set(list1)\n",
    "    set2 = set(list2)\n",
    "    intersection = set1.intersection(set2)\n",
    "    return list(intersection)\n",
    "\n",
    "# Test the function\n",
    "list1 = [1, 2, 3, 4, 5]\n",
    "list2 = [4, 5, 6, 7, 8]\n",
    "intersection = find_intersection(list1, list2)\n",
    "print(intersection)  "
   ]
  },
  {
   "cell_type": "markdown",
   "id": "e1754f23-46f2-4074-bd73-83ff3d6c283a",
   "metadata": {},
   "source": [
    "## 18. Implement a function to find the maximum subarray sum in a given list."
   ]
  },
  {
   "cell_type": "code",
   "execution_count": 19,
   "id": "7ad62f68-2b37-4944-94ec-71dcf1973f3e",
   "metadata": {},
   "outputs": [
    {
     "name": "stdout",
     "output_type": "stream",
     "text": [
      "6\n"
     ]
    }
   ],
   "source": [
    "def max_subarray_sum(nums):\n",
    "    current_sum = nums[0]\n",
    "    max_sum = nums[0]\n",
    "\n",
    "    for i in range(1, len(nums)):\n",
    "        current_sum = max(nums[i], current_sum + nums[i])\n",
    "        max_sum = max(max_sum, current_sum)\n",
    "\n",
    "    return max_sum\n",
    "\n",
    "# Test the function\n",
    "list1 = [-2, 1, -3, 4, -1, 2, 1, -5, 4]\n",
    "max_sum = max_subarray_sum(list1)\n",
    "print(max_sum)  "
   ]
  },
  {
   "cell_type": "markdown",
   "id": "aca1cd21-4dfd-423a-8c67-240181e3a1e3",
   "metadata": {},
   "source": [
    "## 19. Write a program to remove all vowels from a given string."
   ]
  },
  {
   "cell_type": "code",
   "execution_count": 20,
   "id": "e5566f56-53f0-4ac0-938f-feee33548930",
   "metadata": {},
   "outputs": [
    {
     "name": "stdout",
     "output_type": "stream",
     "text": [
      "Hll, Wrld!\n"
     ]
    }
   ],
   "source": [
    "def remove_vowels(string):\n",
    "    vowels = \"aeiouAEIOU\"\n",
    "    new_string = \"\"\n",
    "\n",
    "    for char in string:\n",
    "        if char not in vowels:\n",
    "            new_string += char\n",
    "\n",
    "    return new_string\n",
    "\n",
    "# Test the function\n",
    "string = \"Hello, World!\"\n",
    "result = remove_vowels(string)\n",
    "print(result)  "
   ]
  },
  {
   "cell_type": "markdown",
   "id": "db374d87-0353-4212-9cd5-0463bb640f68",
   "metadata": {},
   "source": [
    "## 20. Implement a function to reverse the order of words in a given sentence."
   ]
  },
  {
   "cell_type": "code",
   "execution_count": 21,
   "id": "ec5b3c0c-bc4a-464f-85c7-4c85f4592bff",
   "metadata": {},
   "outputs": [
    {
     "name": "stdout",
     "output_type": "stream",
     "text": [
      "Python. to Welcome world! Hello,\n"
     ]
    }
   ],
   "source": [
    "def reverse_words(sentence):\n",
    "    words = sentence.split()  # Split the sentence into words\n",
    "    reversed_words = words[::-1]  # Reverse the order of words\n",
    "    reversed_sentence = ' '.join(reversed_words)  # Join the reversed words into a sentence\n",
    "    return reversed_sentence\n",
    "\n",
    "# Test the function\n",
    "sentence = \"Hello, world! Welcome to Python.\"\n",
    "result = reverse_words(sentence)\n",
    "print(result)  "
   ]
  },
  {
   "cell_type": "markdown",
   "id": "34bc5d8f-fb1d-43a1-af33-30ec0741a50f",
   "metadata": {},
   "source": [
    "## 21. Write a Python program to check if two strings are anagrams of each other."
   ]
  },
  {
   "cell_type": "code",
   "execution_count": 22,
   "id": "6532dc5e-5c16-4557-8073-99bf13090f66",
   "metadata": {},
   "outputs": [
    {
     "name": "stdout",
     "output_type": "stream",
     "text": [
      "True\n"
     ]
    }
   ],
   "source": [
    "def are_anagrams(str1, str2):\n",
    "    # Remove whitespace and convert to lowercase\n",
    "    str1 = str1.replace(\" \", \"\").lower()\n",
    "    str2 = str2.replace(\" \", \"\").lower()\n",
    "\n",
    "    # Sort the strings\n",
    "    sorted_str1 = sorted(str1)\n",
    "    sorted_str2 = sorted(str2)\n",
    "\n",
    "    # Compare the sorted strings\n",
    "    if sorted_str1 == sorted_str2:\n",
    "        return True\n",
    "    else:\n",
    "        return False\n",
    "\n",
    "# Test the function\n",
    "string1 = \"listen\"\n",
    "string2 = \"silent\"\n",
    "result = are_anagrams(string1, string2)\n",
    "print(result) "
   ]
  },
  {
   "cell_type": "markdown",
   "id": "8bc7f8da-f365-4db6-908c-6c18673e7c47",
   "metadata": {},
   "source": [
    "## 22. Implement a function to find the first non-repeating character in a string."
   ]
  },
  {
   "cell_type": "code",
   "execution_count": 23,
   "id": "0f5a9abe-dd8e-46f6-9a0d-063a69b75c72",
   "metadata": {},
   "outputs": [
    {
     "name": "stdout",
     "output_type": "stream",
     "text": [
      "b\n"
     ]
    }
   ],
   "source": [
    "def find_first_non_repeating_char(string):\n",
    "    char_count = {}\n",
    "    \n",
    "    # Count the occurrences of each character\n",
    "    for char in string:\n",
    "        if char in char_count:\n",
    "            char_count[char] += 1\n",
    "        else:\n",
    "            char_count[char] = 1\n",
    "    \n",
    "    # Find the first non-repeating character\n",
    "    for char in string:\n",
    "        if char_count[char] == 1:\n",
    "            return char\n",
    "    \n",
    "    # If no non-repeating character found, return None\n",
    "    return None\n",
    "\n",
    "# Test the function\n",
    "input_string = \"aabccde\"\n",
    "result = find_first_non_repeating_char(input_string)\n",
    "print(result)  "
   ]
  },
  {
   "cell_type": "markdown",
   "id": "ae0590a5-7c12-4edd-b01b-41bb1053cb9d",
   "metadata": {},
   "source": [
    "## 23. Write a program to find the prime factors of a given number."
   ]
  },
  {
   "cell_type": "code",
   "execution_count": 24,
   "id": "034b07a5-b23d-49bd-8d73-96e06fec44dd",
   "metadata": {},
   "outputs": [
    {
     "name": "stdout",
     "output_type": "stream",
     "text": [
      "[2, 3, 7, 84]\n"
     ]
    }
   ],
   "source": [
    "import math\n",
    "\n",
    "def find_prime_factors(num):\n",
    "    factors = []\n",
    "    \n",
    "    # Check for factors up to the square root of the number\n",
    "    for i in range(2, int(math.sqrt(num)) + 1):\n",
    "        if num % i == 0:\n",
    "            # If i is a factor, check if it is prime\n",
    "            is_prime = True\n",
    "            for j in range(2, int(math.sqrt(i)) + 1):\n",
    "                if i % j == 0:\n",
    "                    is_prime = False\n",
    "                    break\n",
    "            if is_prime:\n",
    "                factors.append(i)\n",
    "    \n",
    "    # If the number itself is prime, add it as a factor\n",
    "    if num > 1:\n",
    "        factors.append(num)\n",
    "    \n",
    "    return factors\n",
    "\n",
    "# Test the function\n",
    "number = 84\n",
    "result = find_prime_factors(number)\n",
    "print(result)  "
   ]
  },
  {
   "cell_type": "markdown",
   "id": "a671e07f-4042-4f5a-8a51-a6ad30c824c8",
   "metadata": {},
   "source": [
    "## 24. Implement a function to check if a given number is a power of two."
   ]
  },
  {
   "cell_type": "code",
   "execution_count": 25,
   "id": "54caadfb-adcb-434e-8e3e-2dd1f6565200",
   "metadata": {},
   "outputs": [
    {
     "name": "stdout",
     "output_type": "stream",
     "text": [
      "[2, 3, 7, 84]\n"
     ]
    }
   ],
   "source": [
    "import math\n",
    "\n",
    "def find_prime_factors(num):\n",
    "    factors = []\n",
    "    \n",
    "    # Check for factors up to the square root of the number\n",
    "    for i in range(2, int(math.sqrt(num)) + 1):\n",
    "        if num % i == 0:\n",
    "            # If i is a factor, check if it is prime\n",
    "            is_prime = True\n",
    "            for j in range(2, int(math.sqrt(i)) + 1):\n",
    "                if i % j == 0:\n",
    "                    is_prime = False\n",
    "                    break\n",
    "            if is_prime:\n",
    "                factors.append(i)\n",
    "    \n",
    "    # If the number itself is prime, add it as a factor\n",
    "    if num > 1:\n",
    "        factors.append(num)\n",
    "    \n",
    "    return factors\n",
    "\n",
    "# Test the function\n",
    "number = 84\n",
    "result = find_prime_factors(number)\n",
    "print(result)  "
   ]
  },
  {
   "cell_type": "code",
   "execution_count": null,
   "id": "625f4d8a-9cc4-4215-ac7f-7f1fcd52f919",
   "metadata": {},
   "outputs": [],
   "source": [
    "-In the find_prime_factors function, we iterate from 2 up to the square root of the given number. For each \n",
    "number i, we check if it is a factor of the given number num. If it is a factor, we check if i is prime by \n",
    "iterating from 2 up to the square root of i. If i is prime, we add it to the list of factors.\n",
    "\n",
    "-In the example, we test the function with the number 84. The function returns [2, 3, 7], which are the prime\n",
    "factors of 84."
   ]
  },
  {
   "cell_type": "markdown",
   "id": "dc86071e-96ea-42d7-b47d-51a2a017d65e",
   "metadata": {},
   "source": [
    "## 25. Write a Python program to merge two sorted lists into a single sorted list."
   ]
  },
  {
   "cell_type": "code",
   "execution_count": 27,
   "id": "0b1a993d-d9c4-4c4d-9776-c809a42a9434",
   "metadata": {},
   "outputs": [
    {
     "name": "stdout",
     "output_type": "stream",
     "text": [
      "[1, 2, 3, 4, 5, 6, 7, 8]\n"
     ]
    }
   ],
   "source": [
    "def merge_sorted_lists(list1, list2):\n",
    "    merged = []\n",
    "    i, j = 0, 0\n",
    "\n",
    "    while i < len(list1) and j < len(list2):\n",
    "        if list1[i] <= list2[j]:\n",
    "            merged.append(list1[i])\n",
    "            i += 1\n",
    "        else:\n",
    "            merged.append(list2[j])\n",
    "            j += 1\n",
    "\n",
    "    # Append the remaining elements of the non-empty list\n",
    "    merged.extend(list1[i:])\n",
    "    merged.extend(list2[j:])\n",
    "\n",
    "    return merged\n",
    "\n",
    "# Test the function\n",
    "list1 = [1, 3, 5, 7]\n",
    "list2 = [2, 4, 6, 8]\n",
    "merged_list = merge_sorted_lists(list1, list2)\n",
    "print(merged_list)  "
   ]
  },
  {
   "cell_type": "markdown",
   "id": "f2269437-9ea4-448c-9b8f-8df21b86a8f9",
   "metadata": {},
   "source": [
    "## 26. Implement a function to find the mode of a list of numbers."
   ]
  },
  {
   "cell_type": "code",
   "execution_count": 28,
   "id": "486c316a-54c1-4a22-8954-11f8b604f3b2",
   "metadata": {},
   "outputs": [
    {
     "name": "stdout",
     "output_type": "stream",
     "text": [
      "[3]\n"
     ]
    }
   ],
   "source": [
    "def find_mode(numbers):\n",
    "    frequency = {}\n",
    "    for num in numbers:\n",
    "        frequency[num] = frequency.get(num, 0) + 1\n",
    "\n",
    "    max_frequency = max(frequency.values())\n",
    "\n",
    "    modes = []\n",
    "    for num, count in frequency.items():\n",
    "        if count == max_frequency:\n",
    "            modes.append(num)\n",
    "\n",
    "    return modes\n",
    "\n",
    "# Test the function\n",
    "numbers = [1, 2, 2, 3, 3, 3, 4, 5, 5]\n",
    "modes = find_mode(numbers)\n",
    "print(modes)  "
   ]
  },
  {
   "cell_type": "markdown",
   "id": "5ca24d4e-aa0c-4ab7-a4a6-cc7cabe020f4",
   "metadata": {},
   "source": [
    "## 27. Write a program to find the greatest common divisor (GCD) of two numbers."
   ]
  },
  {
   "cell_type": "code",
   "execution_count": 29,
   "id": "d1745bfb-0693-4a72-8361-cc145df7ed1a",
   "metadata": {},
   "outputs": [
    {
     "name": "stdout",
     "output_type": "stream",
     "text": [
      "12\n"
     ]
    }
   ],
   "source": [
    "def gcd(a, b):\n",
    "    while b != 0:\n",
    "        a, b = b, a % b\n",
    "    return a\n",
    "\n",
    "# Test the function\n",
    "num1 = 36\n",
    "num2 = 48\n",
    "result = gcd(num1, num2)\n",
    "print(result)  "
   ]
  },
  {
   "cell_type": "markdown",
   "id": "3cf9e1f7-b3cf-463c-8198-8699e6d396e2",
   "metadata": {},
   "source": [
    "## 28. Implement a function to calculate the square root of a given number."
   ]
  },
  {
   "cell_type": "code",
   "execution_count": 30,
   "id": "82dfbe89-5c42-4e51-9cfd-e8cfc10cd962",
   "metadata": {},
   "outputs": [
    {
     "name": "stdout",
     "output_type": "stream",
     "text": [
      "4.000000000000051\n"
     ]
    }
   ],
   "source": [
    "def square_root(num):\n",
    "    if num < 0:\n",
    "        raise ValueError(\"Square root is not defined for negative numbers\")\n",
    "    if num == 0:\n",
    "        return 0\n",
    "\n",
    "    x = num\n",
    "    while True:\n",
    "        next_x = 0.5 * (x + num / x)\n",
    "        if abs(next_x - x) < 0.00001:\n",
    "            break\n",
    "        x = next_x\n",
    "\n",
    "    return next_x\n",
    "\n",
    "# Test the function\n",
    "num = 16\n",
    "result = square_root(num)\n",
    "print(result) "
   ]
  },
  {
   "cell_type": "markdown",
   "id": "45bdec77-4f73-4cbc-b537-3a08bb66531f",
   "metadata": {},
   "source": [
    "## 29. Write a Python program to check if a given string is a valid palindrome ignoring non-alphanumericcharacters."
   ]
  },
  {
   "cell_type": "code",
   "execution_count": 31,
   "id": "a8faffb2-e5d2-4e51-8f6e-63ee9b11fecf",
   "metadata": {},
   "outputs": [
    {
     "name": "stdout",
     "output_type": "stream",
     "text": [
      "True\n",
      "False\n"
     ]
    }
   ],
   "source": [
    "import re\n",
    "\n",
    "def is_valid_palindrome(s):\n",
    "    # Remove non-alphanumeric characters\n",
    "    s = re.sub(r'[^a-zA-Z0-9]', '', s)\n",
    "    \n",
    "    # Convert string to lowercase\n",
    "    s = s.lower()\n",
    "    \n",
    "    # Check if the string is equal to its reverse\n",
    "    return s == s[::-1]\n",
    "\n",
    "# Test the function\n",
    "string1 = \"A man, a plan, a canal: Panama\"\n",
    "print(is_valid_palindrome(string1))  \n",
    "\n",
    "string2 = \"race a car\"\n",
    "print(is_valid_palindrome(string2))  "
   ]
  },
  {
   "cell_type": "markdown",
   "id": "7f09e7d9-edc8-4a92-a661-d1569f9670ca",
   "metadata": {},
   "source": [
    "## 30. Implement a function to find the minimum element in a rotated sorted list."
   ]
  },
  {
   "cell_type": "code",
   "execution_count": 32,
   "id": "292dfa58-73ba-4df8-8993-ec6c30ff91f4",
   "metadata": {},
   "outputs": [
    {
     "name": "stdout",
     "output_type": "stream",
     "text": [
      "0\n",
      "1\n"
     ]
    }
   ],
   "source": [
    "def find_min_element(nums):\n",
    "    # Handle edge case where the list is empty\n",
    "    if not nums:\n",
    "        return None\n",
    "    \n",
    "    # Initialize left and right pointers\n",
    "    left = 0\n",
    "    right = len(nums) - 1\n",
    "    \n",
    "    # Perform binary search\n",
    "    while left < right:\n",
    "        mid = left + (right - left) // 2\n",
    "        \n",
    "        # Check if the mid element is greater than the rightmost element\n",
    "        if nums[mid] > nums[right]:\n",
    "            # Minimum element is in the right half\n",
    "            left = mid + 1\n",
    "        else:\n",
    "            # Minimum element is in the left half or mid itself\n",
    "            right = mid\n",
    "    \n",
    "    # At the end of the binary search, left and right pointers will converge\n",
    "    # to the minimum element\n",
    "    return nums[left]\n",
    "\n",
    "# Test the function\n",
    "nums = [4, 5, 6, 7, 0, 1, 2]\n",
    "print(find_min_element(nums))\n",
    "\n",
    "nums = [3, 4, 5, 1, 2]\n",
    "print(find_min_element(nums))  "
   ]
  },
  {
   "cell_type": "markdown",
   "id": "2b18bd0f-4dce-43e3-9526-6dc701797b2c",
   "metadata": {},
   "source": [
    "## 31. Write a program to find the sum of all even numbers in a list."
   ]
  },
  {
   "cell_type": "code",
   "execution_count": 33,
   "id": "d3661d63-5b94-49ee-a3bf-707cce76ed1f",
   "metadata": {},
   "outputs": [
    {
     "name": "stdout",
     "output_type": "stream",
     "text": [
      "30\n"
     ]
    }
   ],
   "source": [
    "def sum_even_numbers(numbers):\n",
    "    # Initialize sum to 0\n",
    "    sum = 0\n",
    "    \n",
    "    # Iterate over the numbers in the list\n",
    "    for num in numbers:\n",
    "        # Check if the number is even\n",
    "        if num % 2 == 0:\n",
    "            # Add the even number to the sum\n",
    "            sum += num\n",
    "    \n",
    "    return sum\n",
    "\n",
    "# Test the function\n",
    "numbers = [1, 2, 3, 4, 5, 6, 7, 8, 9, 10]\n",
    "print(sum_even_numbers(numbers))  "
   ]
  },
  {
   "cell_type": "markdown",
   "id": "5d6794d9-4979-4b1d-8319-9b52e247be55",
   "metadata": {},
   "source": [
    "## 32. Implement a function to calculate the power of a number using recursion."
   ]
  },
  {
   "cell_type": "code",
   "execution_count": 34,
   "id": "2f9c5393-dbb0-4d7b-a8cb-bcd807b65032",
   "metadata": {},
   "outputs": [
    {
     "name": "stdout",
     "output_type": "stream",
     "text": [
      "8\n"
     ]
    }
   ],
   "source": [
    "def power(base, exponent):\n",
    "    # Base case: exponent is 0, return 1\n",
    "    if exponent == 0:\n",
    "        return 1\n",
    "    \n",
    "    # Recursive case: multiply base by power(base, exponent - 1)\n",
    "    return base * power(base, exponent - 1)\n",
    "\n",
    "# Test the function\n",
    "base = 2\n",
    "exponent = 3\n",
    "result = power(base, exponent)\n",
    "print(result)  "
   ]
  },
  {
   "cell_type": "code",
   "execution_count": null,
   "id": "1c4b7189-2b53-4602-93bf-5ee5e9ff15c5",
   "metadata": {},
   "outputs": [],
   "source": [
    "-In the power function, we define the base case as when the exponent is 0. In this case, we return 1 because\n",
    " any number raised to the power of 0 is 1.\n",
    "\n",
    "-For the recursive case, we multiply the base by the result of calling power with the same base and the \n",
    " exponent decremented by 1. This recursion continues until the base case is reached.\n",
    "\n",
    "-In the example test case, we calculate 2 raised to the power of 3 by calling power(2, 3). This results in\n",
    " 2 * (2 * (2 * 1)) = 8. The function returns the result 8, which is then printed."
   ]
  },
  {
   "cell_type": "markdown",
   "id": "b4a2e125-db1e-40a4-b49b-9753cc2c531b",
   "metadata": {},
   "source": [
    "## 33. Write a Python program to remove duplicates from a list while preserving the order."
   ]
  },
  {
   "cell_type": "code",
   "execution_count": 35,
   "id": "a13d20c0-4807-4a2b-b062-5ae18814090a",
   "metadata": {},
   "outputs": [
    {
     "name": "stdout",
     "output_type": "stream",
     "text": [
      "[1, 2, 3, 4, 5, 6]\n"
     ]
    }
   ],
   "source": [
    "def remove_duplicates(lst):\n",
    "    seen = set()\n",
    "    result = []\n",
    "    \n",
    "    for item in lst:\n",
    "        if item not in seen:\n",
    "            seen.add(item)\n",
    "            result.append(item)\n",
    "    \n",
    "    return result\n",
    "\n",
    "# Test the function\n",
    "my_list = [1, 2, 3, 2, 4, 1, 5, 6, 4]\n",
    "result = remove_duplicates(my_list)\n",
    "print(result)  "
   ]
  },
  {
   "cell_type": "markdown",
   "id": "15b54282-a941-4684-b8c0-3ddc453172b2",
   "metadata": {},
   "source": [
    "## 34. Implement a function to find the longest common prefix among a list of strings."
   ]
  },
  {
   "cell_type": "code",
   "execution_count": 36,
   "id": "f5e9ccfb-c8e8-40a9-bd13-5aac6cc32e26",
   "metadata": {},
   "outputs": [
    {
     "name": "stdout",
     "output_type": "stream",
     "text": [
      "fl\n"
     ]
    }
   ],
   "source": [
    "def longest_common_prefix(strings):\n",
    "    if not strings:\n",
    "        return \"\"\n",
    "\n",
    "    prefix = strings[0]  # Initialize prefix with the first string\n",
    "\n",
    "    for string in strings[1:]:\n",
    "        while not string.startswith(prefix):\n",
    "            prefix = prefix[:-1]  # Remove the last character from prefix\n",
    "\n",
    "            if not prefix:  # If prefix becomes empty, no common prefix exists\n",
    "                return \"\"\n",
    "\n",
    "    return prefix\n",
    "\n",
    "\n",
    "# Test the function\n",
    "my_strings = [\"flower\", \"flow\", \"flight\"]\n",
    "result = longest_common_prefix(my_strings)\n",
    "print(result)  "
   ]
  },
  {
   "cell_type": "code",
   "execution_count": null,
   "id": "3cd45649-ff69-4c7b-90f8-a18ef183bd47",
   "metadata": {},
   "outputs": [],
   "source": [
    "-In the longest_common_prefix function, we start by assigning the first string in the list to the variable\n",
    " prefix, assuming it to be the common prefix. Then, we iterate over the remaining strings in the list.\n",
    "\n",
    "-Inside the loop, we continuously remove the last character from the prefix until the current string string\n",
    " starts with the updated prefix. If the prefix becomes empty, it means there is no common prefix among the \n",
    "strings, and we return an empty string.\n",
    "\n",
    "-After iterating through all the strings, we return the final prefix, which represents the longest common \n",
    " prefix among the strings.\n",
    "\n",
    "-In the example test case, the list of strings is [\"flower\", \"flow\", \"flight\"]. The longest common prefix \n",
    " among these strings is \"fl\", which is then printed as the output."
   ]
  },
  {
   "cell_type": "markdown",
   "id": "16e20d45-5f86-479e-8920-18d722446b03",
   "metadata": {},
   "source": [
    "## 35. Write a program to check if a given number is a perfect square."
   ]
  },
  {
   "cell_type": "code",
   "execution_count": 37,
   "id": "3ec18a47-974d-4962-8bd3-a9276e0c74ea",
   "metadata": {},
   "outputs": [
    {
     "name": "stdout",
     "output_type": "stream",
     "text": [
      "True\n"
     ]
    }
   ],
   "source": [
    "import math\n",
    "\n",
    "def is_perfect_square(num):\n",
    "    sqrt = math.isqrt(num)  # Calculate the integer square root\n",
    "    \n",
    "    # Check if the square of the integer square root is equal to the number\n",
    "    if sqrt * sqrt == num:\n",
    "        return True\n",
    "    else:\n",
    "        return False\n",
    "\n",
    "\n",
    "# Test the function\n",
    "number = 16\n",
    "result = is_perfect_square(number)\n",
    "print(result) "
   ]
  },
  {
   "cell_type": "markdown",
   "id": "9a1c8c20-c661-41fe-a00d-1841a26a41ab",
   "metadata": {},
   "source": [
    "## 36. Implement a function to calculate the product of all elements in a list."
   ]
  },
  {
   "cell_type": "code",
   "execution_count": 38,
   "id": "a4897360-f9cd-40d3-becb-a9813a4cc92a",
   "metadata": {},
   "outputs": [
    {
     "name": "stdout",
     "output_type": "stream",
     "text": [
      "120\n"
     ]
    }
   ],
   "source": [
    "def calculate_product(lst):\n",
    "    product = 1\n",
    "\n",
    "    for num in lst:\n",
    "        product *= num\n",
    "\n",
    "    return product\n",
    "\n",
    "\n",
    "# Test the function\n",
    "numbers = [2, 3, 4, 5]\n",
    "result = calculate_product(numbers)\n",
    "print(result)"
   ]
  },
  {
   "cell_type": "markdown",
   "id": "3c76ac99-2558-437e-8f52-3131e47d6fb0",
   "metadata": {},
   "source": [
    "## 37. Write a Python program to reverse the order of words in a sentence while preserving the word order."
   ]
  },
  {
   "cell_type": "code",
   "execution_count": 39,
   "id": "c6a7d6a1-f12e-450e-9b36-3789eb34295a",
   "metadata": {},
   "outputs": [
    {
     "name": "stdout",
     "output_type": "stream",
     "text": [
      "120\n"
     ]
    }
   ],
   "source": [
    "def calculate_product(lst):\n",
    "    product = 1\n",
    "\n",
    "    for num in lst:\n",
    "        product *= num\n",
    "\n",
    "    return product\n",
    "\n",
    "\n",
    "# Test the function\n",
    "numbers = [2, 3, 4, 5]\n",
    "result = calculate_product(numbers)\n",
    "print(result)"
   ]
  },
  {
   "cell_type": "code",
   "execution_count": null,
   "id": "c9950dea-1a39-4e15-b303-2e8774537e13",
   "metadata": {},
   "outputs": [],
   "source": [
    "-In the reverse_sentence function, we start by splitting the input sentence into individual words using the \n",
    " split() method, which separates the words based on whitespace. We assign the resulting list of words to the \n",
    "variable words.\n",
    "\n",
    "-Next, we reverse the order of the words by using a slice with a step of -1 ([::-1]). This creates a new list\n",
    " with the words in reversed order and assigns it to the variable reversed_words.\n",
    "\n",
    "-Finally, we join the reversed words back together into a single string using the join() method with a space \n",
    " as the separator. The resulting reversed sentence is then returned.\n",
    "\n",
    "-In the example test case, the input sentence is \"Hello world! This is a sentence.\" The function reverses the\n",
    " order of the words to form the output \"sentence. a is This world! Hello\"."
   ]
  },
  {
   "cell_type": "markdown",
   "id": "6e4c5afa-20e1-41da-93a7-717add302a81",
   "metadata": {},
   "source": [
    "## 38. Implement a function to find the missing number in a given list of consecutive numbers."
   ]
  },
  {
   "cell_type": "code",
   "execution_count": 40,
   "id": "35a2dccf-7bb1-4e61-bdcc-b3b376d8fafd",
   "metadata": {},
   "outputs": [
    {
     "name": "stdout",
     "output_type": "stream",
     "text": [
      "4\n"
     ]
    }
   ],
   "source": [
    "def find_missing_number(numbers):\n",
    "    n = len(numbers) + 1  # Total number of elements including the missing one\n",
    "    expected_sum = (n * (n + 1)) // 2  # Sum of consecutive numbers from 1 to n\n",
    "    actual_sum = sum(numbers)  # Sum of the given list of numbers\n",
    "    missing_number = expected_sum - actual_sum\n",
    "    return missing_number\n",
    "\n",
    "\n",
    "# Test the function\n",
    "numbers = [1, 2, 3, 5, 6, 7, 8, 9, 10]\n",
    "missing_number = find_missing_number(numbers)\n",
    "print(missing_number)  "
   ]
  },
  {
   "cell_type": "code",
   "execution_count": null,
   "id": "d56fd629-e15d-4f0e-808b-a9a6b821e882",
   "metadata": {},
   "outputs": [],
   "source": [
    "-In the find_missing_number function, we first calculate the total number of elements including the missing \n",
    " one by adding 1 to the length of the given list. We assign this value to the variable n.\n",
    "\n",
    "-Next, we calculate the expected sum of the consecutive numbers from 1 to n using the formula (n * (n + 1))\n",
    " // 2, which is the sum of an arithmetic series.\n",
    "\n",
    "-Then, we calculate the actual sum of the given list of numbers using the sum() function and assign it to the\n",
    " variable actual_sum.\n",
    "\n",
    "-Finally, we subtract the actual_sum from the expected_sum to find the missing number and return it.\n",
    "\n",
    "-In the example test case, the given list is [1, 2, 3, 5, 6, 7, 8, 9, 10]. The missing number is 4, which is\n",
    " the number that completes the consecutive sequence from 1 to 10."
   ]
  },
  {
   "cell_type": "markdown",
   "id": "032c4eb7-2ab3-4cd7-99eb-a0b290332cbd",
   "metadata": {},
   "source": [
    "## 39. Write a program to find the sum of digits of a given number."
   ]
  },
  {
   "cell_type": "code",
   "execution_count": 41,
   "id": "97a05cb9-bc87-4147-a0c5-b18cb390f258",
   "metadata": {},
   "outputs": [
    {
     "name": "stdout",
     "output_type": "stream",
     "text": [
      "15\n"
     ]
    }
   ],
   "source": [
    "def sum_of_digits(number):\n",
    "    # Convert the number to a string\n",
    "    number_str = str(number)\n",
    "    # Initialize the sum variable\n",
    "    digit_sum = 0\n",
    "    # Iterate over each character (digit) in the string\n",
    "    for digit_char in number_str:\n",
    "        # Convert the digit character to an integer and add it to the sum\n",
    "        digit_sum += int(digit_char)\n",
    "    # Return the sum of digits\n",
    "    return digit_sum\n",
    "\n",
    "\n",
    "# Test the function\n",
    "number = 12345\n",
    "digit_sum = sum_of_digits(number)\n",
    "print(digit_sum)  "
   ]
  },
  {
   "cell_type": "markdown",
   "id": "64315ad2-963e-487b-8e3c-c822d47a0560",
   "metadata": {},
   "source": [
    "## 40. Implement a function to check if a given string is a valid palindrome considering case sensitivity."
   ]
  },
  {
   "cell_type": "code",
   "execution_count": 42,
   "id": "c40709f4-03e1-47cd-959b-1d92488c4c77",
   "metadata": {},
   "outputs": [
    {
     "name": "stdout",
     "output_type": "stream",
     "text": [
      "True\n",
      "True\n",
      "False\n"
     ]
    }
   ],
   "source": [
    "def is_valid_palindrome(string):\n",
    "    # Remove non-alphanumeric characters and convert to lowercase\n",
    "    string = ''.join(ch.lower() for ch in string if ch.isalnum())\n",
    "    # Check if the string and its reverse are the same\n",
    "    return string == string[::-1]\n",
    "\n",
    "\n",
    "# Test the function\n",
    "string1 = \"A man, a plan, a canal: Panama\"\n",
    "print(is_valid_palindrome(string1))  \n",
    "\n",
    "string2 = \"racecar\"\n",
    "print(is_valid_palindrome(string2))\n",
    "\n",
    "string3 = \"Hello, World!\"\n",
    "print(is_valid_palindrome(string3))  "
   ]
  },
  {
   "cell_type": "markdown",
   "id": "b649ec79-15b8-44dc-80e0-f1f796c82ef0",
   "metadata": {},
   "source": [
    "## 41. Write a Python program to find the smallest missing positive integer in a list."
   ]
  },
  {
   "cell_type": "code",
   "execution_count": 43,
   "id": "ca0dfdc3-7660-44c9-8da2-369d13045582",
   "metadata": {},
   "outputs": [
    {
     "name": "stdout",
     "output_type": "stream",
     "text": [
      "3\n",
      "2\n",
      "1\n"
     ]
    }
   ],
   "source": [
    "def find_smallest_missing_positive(nums):\n",
    "    # Track positive integers using a set\n",
    "    positive_nums = set()\n",
    "\n",
    "    # Add positive integers to the set\n",
    "    for num in nums:\n",
    "        if num > 0:\n",
    "            positive_nums.add(num)\n",
    "\n",
    "    # Check each positive integer starting from 1\n",
    "    smallest_missing = 1\n",
    "    while smallest_missing in positive_nums:\n",
    "        smallest_missing += 1\n",
    "\n",
    "    return smallest_missing\n",
    "\n",
    "\n",
    "# Test the function\n",
    "nums1 = [1, 2, 0]\n",
    "print(find_smallest_missing_positive(nums1))  \n",
    "\n",
    "nums2 = [3, 4, -1, 1]\n",
    "print(find_smallest_missing_positive(nums2))  \n",
    "\n",
    "nums3 = [7, 8, 9, 11, 12]\n",
    "print(find_smallest_missing_positive(nums3))  "
   ]
  },
  {
   "cell_type": "markdown",
   "id": "53ae4ddf-df01-4bb8-aafa-103110707139",
   "metadata": {},
   "source": [
    "## 42. Implement a function to find the longest palindrome substring in a given string."
   ]
  },
  {
   "cell_type": "code",
   "execution_count": 44,
   "id": "60da0753-4223-44c5-b491-60fb98f04621",
   "metadata": {},
   "outputs": [
    {
     "name": "stdout",
     "output_type": "stream",
     "text": [
      "aba\n",
      "bb\n"
     ]
    }
   ],
   "source": [
    "def longest_palindrome(s):\n",
    "    n = len(s)\n",
    "    max_len = 0\n",
    "    start = 0\n",
    "    dp = [[False] * n for _ in range(n)]\n",
    "\n",
    "    # All substrings of length 1 are palindromes\n",
    "    for i in range(n):\n",
    "        dp[i][i] = True\n",
    "        max_len = 1\n",
    "        start = i\n",
    "\n",
    "    # Check substrings of length 2\n",
    "    for i in range(n - 1):\n",
    "        if s[i] == s[i + 1]:\n",
    "            dp[i][i + 1] = True\n",
    "            max_len = 2\n",
    "            start = i\n",
    "\n",
    "    # Check substrings of length > 2\n",
    "    for length in range(3, n + 1):\n",
    "        for i in range(n - length + 1):\n",
    "            j = i + length - 1\n",
    "            if s[i] == s[j] and dp[i + 1][j - 1]:\n",
    "                dp[i][j] = True\n",
    "                max_len = length\n",
    "                start = i\n",
    "\n",
    "    return s[start:start + max_len]\n",
    "\n",
    "\n",
    "# Test the function\n",
    "s1 = \"babad\"\n",
    "print(longest_palindrome(s1))  \n",
    "\n",
    "s2 = \"cbbd\"\n",
    "print(longest_palindrome(s2))  "
   ]
  },
  {
   "cell_type": "markdown",
   "id": "0e510df0-48ce-4866-afc8-b59e597ae66f",
   "metadata": {},
   "source": [
    "## 43. Write a program to find the number of occurrences of a given element in a list."
   ]
  },
  {
   "cell_type": "code",
   "execution_count": 45,
   "id": "04351bb9-bb1c-4597-a925-b455fdddad41",
   "metadata": {},
   "outputs": [
    {
     "name": "stdout",
     "output_type": "stream",
     "text": [
      "3\n"
     ]
    }
   ],
   "source": [
    "def count_occurrences(lst, element):\n",
    "    count = 0\n",
    "    for item in lst:\n",
    "        if item == element:\n",
    "            count += 1\n",
    "    return count\n",
    "\n",
    "# Test the function\n",
    "my_list = [1, 2, 3, 2, 4, 2, 5]\n",
    "element = 2\n",
    "print(count_occurrences(my_list, element))  "
   ]
  },
  {
   "cell_type": "markdown",
   "id": "f1585671-7577-418f-897f-2f2ea9834c9a",
   "metadata": {},
   "source": [
    "## 44. Implement a function to check if a given number is a perfect number."
   ]
  },
  {
   "cell_type": "code",
   "execution_count": 46,
   "id": "648c2612-1840-42aa-b52b-dc3441642331",
   "metadata": {},
   "outputs": [
    {
     "name": "stdout",
     "output_type": "stream",
     "text": [
      "True\n",
      "True\n",
      "False\n"
     ]
    }
   ],
   "source": [
    "def is_perfect_number(n):\n",
    "    sum_of_divisors = 0\n",
    "    for i in range(1, n // 2 + 1):\n",
    "        if n % i == 0:\n",
    "            sum_of_divisors += i\n",
    "    return sum_of_divisors == n\n",
    "\n",
    "# Test the function\n",
    "print(is_perfect_number(6))  \n",
    "print(is_perfect_number(28))  \n",
    "print(is_perfect_number(12))  "
   ]
  },
  {
   "cell_type": "markdown",
   "id": "205711fb-dfdb-454c-aabb-0b5b423af4dd",
   "metadata": {},
   "source": [
    "## 45. Write a Python program to remove all duplicates from a string."
   ]
  },
  {
   "cell_type": "code",
   "execution_count": 47,
   "id": "3927d4a5-b46c-4db1-be7f-da528fdc0d4a",
   "metadata": {},
   "outputs": [
    {
     "name": "stdout",
     "output_type": "stream",
     "text": [
      "elho\n",
      "yntohp\n"
     ]
    }
   ],
   "source": [
    "def remove_duplicates(string):\n",
    "    # Convert the string to a set to remove duplicates\n",
    "    unique_chars = set(string)\n",
    "    # Convert the set back to a string\n",
    "    result = ''.join(unique_chars)\n",
    "    return result\n",
    "\n",
    "# Test the function\n",
    "input_string = \"hello\"\n",
    "print(remove_duplicates(input_string))  \n",
    "\n",
    "input_string = \"python\"\n",
    "print(remove_duplicates(input_string))  "
   ]
  },
  {
   "cell_type": "markdown",
   "id": "1d58d708-6ab9-4136-ae55-5f1ee96f990b",
   "metadata": {},
   "source": [
    "## 46. Implement a function to find the first missing positive"
   ]
  },
  {
   "cell_type": "code",
   "execution_count": 50,
   "id": "30302f16-bdac-4bf7-9e94-6baa54854ba4",
   "metadata": {},
   "outputs": [
    {
     "name": "stdout",
     "output_type": "stream",
     "text": [
      "2\n",
      "3\n"
     ]
    }
   ],
   "source": [
    "def find_first_missing_positive(nums):\n",
    "    n = len(nums)\n",
    "\n",
    "    # Step 1: Mark non-positive integers as invalid\n",
    "    for i in range(n):\n",
    "        if nums[i] <= 0:\n",
    "            nums[i] = n + 1\n",
    "\n",
    "    # Step 2: Mark visited indices as negative\n",
    "    for i in range(n):\n",
    "        num = abs(nums[i])\n",
    "        if num <= n:\n",
    "            nums[num - 1] = -abs(nums[num - 1])\n",
    "\n",
    "    # Step 3: Find the first positive index\n",
    "    for i in range(n):\n",
    "        if nums[i] > 0:\n",
    "            return i + 1\n",
    "\n",
    "    # Step 4: All indices are present, return the next positive number\n",
    "    return n + 1\n",
    "\n",
    "nums = [3, 4, -1, 1]\n",
    "missing_positive = find_first_missing_positive(nums)\n",
    "print(missing_positive)  # Output: 2\n",
    "\n",
    "nums = [1, 2, 0]\n",
    "missing_positive = find_first_missing_positive(nums)\n",
    "print(missing_positive)  # Output: 3\n"
   ]
  },
  {
   "cell_type": "code",
   "execution_count": null,
   "id": "cfd23f0e-9ba6-44f1-b2f3-c95758d126b0",
   "metadata": {},
   "outputs": [],
   "source": [
    "This function follows a modified version of the \"Mark and Sweep\" algorithm. It works as follows:\n",
    "\n",
    "-In the first step, we mark all non-positive integers as invalid by setting their values to n + 1, where n is\n",
    " the length of the input list. This is done to exclude non-positive numbers from consideration.\n",
    "\n",
    "-Next, we iterate through the list and mark visited indices as negative. To do this, we take the absolute \n",
    " value of the number at each index and negate the value at the corresponding index if it is within the valid \n",
    "range (1 to n).\n",
    "\n",
    "-After marking the visited indices, we iterate through the list again to find the first positive index. The\n",
    " index that remains positive indicates the first missing positive number.\n",
    "\n",
    "-If all indices are marked as negative, it means that all positive numbers from 1 to n are present in the \n",
    " list. In this case, we return n + 1 as the next missing positive number."
   ]
  }
 ],
 "metadata": {
  "kernelspec": {
   "display_name": "Python 3 (ipykernel)",
   "language": "python",
   "name": "python3"
  },
  "language_info": {
   "codemirror_mode": {
    "name": "ipython",
    "version": 3
   },
   "file_extension": ".py",
   "mimetype": "text/x-python",
   "name": "python",
   "nbconvert_exporter": "python",
   "pygments_lexer": "ipython3",
   "version": "3.10.8"
  }
 },
 "nbformat": 4,
 "nbformat_minor": 5
}
